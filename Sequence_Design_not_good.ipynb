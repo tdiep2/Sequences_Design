{
 "cells": [
  {
   "cell_type": "code",
   "execution_count": 1,
   "id": "d7ba5456-3812-4d37-971d-fcab8d8dab08",
   "metadata": {},
   "outputs": [
    {
     "data": {
      "text/plain": [
       "2763"
      ]
     },
     "execution_count": 1,
     "metadata": {},
     "output_type": "execute_result"
    }
   ],
   "source": [
    "from Bio.Seq import Seq\n",
    "from Bio.SeqUtils import MeltingTemp as mt\n",
    "from itertools import product\n",
    "\n",
    "seqs = [''.join(c) for c in product('ATCG', repeat=8)]\n",
    "\n",
    "rdict = {'A':'T', 'T':'A','C':'G', 'G':'C'}\n",
    "def rc (seq):\n",
    "    return \"\".join([rdict[c]for c in seq][::-1])\n",
    "\n",
    "forwards = []\n",
    "for s in seqs:\n",
    "    if rc(s) in forwards:\n",
    "        pass\n",
    "    else:\n",
    "        forwards.append(s)\n",
    "len(forwards)\n",
    "forwards = list(\n",
    "    filter(\n",
    "    lambda seq: 15.5 <= mt.Tm_NN(seq, Mg = 11.5, Na = 5, saltcorr=4) <= 16.5,\n",
    "        forwards\n",
    "    )\n",
    ")\n",
    "len(forwards)\n",
    "\n",
    "\n",
    "forwards = list(filter(lambda seq: 15 <= mt.Tm_NN(seq, Na = 5, Mg=15, saltcorr = 4) <= 17,forwards))\n",
    "len(forwards)\n"
   ]
  },
  {
   "cell_type": "code",
   "execution_count": 2,
   "id": "bc99a0f9-12eb-4b9f-a780-396124d1f6d7",
   "metadata": {},
   "outputs": [
    {
     "name": "stderr",
     "output_type": "stream",
     "text": [
      "/home/tdiep2/miniconda3/lib/python3.10/site-packages/tqdm/auto.py:22: TqdmWarning: IProgress not found. Please update jupyter and ipywidgets. See https://ipywidgets.readthedocs.io/en/stable/user_install.html\n",
      "  from .autonotebook import tqdm as notebook_tqdm\n",
      "100%|█████████████████████████████████████████████████████████████████████████████████████████████████████████| 2763/2763 [30:43<00:00,  1.50it/s]\n"
     ]
    },
    {
     "data": {
      "text/plain": [
       "24"
      ]
     },
     "execution_count": 2,
     "metadata": {},
     "output_type": "execute_result"
    }
   ],
   "source": [
    "import random\n",
    "from nupack import *\n",
    "from tqdm.auto import tqdm\n",
    "import numpy as np \n",
    "\n",
    "model1 = Model(material='dna', celsius=16, sodium=0.05, magnesium=0.00)\n",
    "\n",
    "\n",
    "output = []\n",
    "for seq in tqdm(forwards[:]):\n",
    "    rc_seq = rc(seq)\n",
    "    corect_complex_dG = pfunc((seq,rc_seq), model=model1)[1]\n",
    "    #print(corect_complex_dG)\n",
    "    test_passed = True\n",
    "    for test_seq in forwards:\n",
    "        rc_test_seq = rc(test_seq)\n",
    "        if test_seq == seq or test_seq == rc_seq:\n",
    "            continue\n",
    "        test_complexes_dG =  corect_complex_dG - np.array([pfunc((seq, test_seq), model = model1)[1], #sequence + test sequence\n",
    "        pfunc((seq, rc_test_seq), model = model1)[1],\n",
    "        pfunc((rc_seq, test_seq), model = model1)[1], #reverse complement sequence\n",
    "        pfunc((rc_seq, rc_test_seq), model = model1)[1]\n",
    "        ])\n",
    "        \n",
    "        # print(test_complexes_dG)\n",
    "        for ddG in test_complexes_dG:\n",
    "            if ddG >= -2:\n",
    "                test_passed = False\n",
    "                break\n",
    "        if not test_passed:\n",
    "            break\n",
    "\n",
    "    if test_passed:\n",
    "        output.append(seq)\n",
    "        output.append(rc_seq)\n",
    "\n",
    "\n",
    "len(output)\n"
   ]
  },
  {
   "cell_type": "code",
   "execution_count": 3,
   "id": "54189c0f-6cce-45ae-91d8-9d7b921ee7e7",
   "metadata": {},
   "outputs": [
    {
     "data": {
      "text/plain": [
       "['ACAGGAGT',\n",
       " 'ACTCCTGT',\n",
       " 'ACTCCAGT',\n",
       " 'ACTGGAGT',\n",
       " 'TGATCCCA',\n",
       " 'TGGGATCA',\n",
       " 'TGACTCCA',\n",
       " 'TGGAGTCA',\n",
       " 'TGACCTCA',\n",
       " 'TGAGGTCA',\n",
       " 'TGAGACCA',\n",
       " 'TGGTCTCA',\n",
       " 'TGAGTCCA',\n",
       " 'TGGACTCA',\n",
       " 'TGAGGACA',\n",
       " 'TGTCCTCA',\n",
       " 'TGTACCCA',\n",
       " 'TGGGTACA',\n",
       " 'TGTCTCCA',\n",
       " 'TGGAGACA',\n",
       " 'TGGATCCA',\n",
       " 'TGGATCCA',\n",
       " 'TGGTACCA',\n",
       " 'TGGTACCA']"
      ]
     },
     "execution_count": 3,
     "metadata": {},
     "output_type": "execute_result"
    }
   ],
   "source": [
    "output"
   ]
  },
  {
   "cell_type": "code",
   "execution_count": null,
   "id": "b5cc9b97-ee93-4e3c-b287-22a6fb7e94d3",
   "metadata": {},
   "outputs": [],
   "source": []
  }
 ],
 "metadata": {
  "kernelspec": {
   "display_name": "Python 3 (ipykernel)",
   "language": "python",
   "name": "python3"
  },
  "language_info": {
   "codemirror_mode": {
    "name": "ipython",
    "version": 3
   },
   "file_extension": ".py",
   "mimetype": "text/x-python",
   "name": "python",
   "nbconvert_exporter": "python",
   "pygments_lexer": "ipython3",
   "version": "3.10.9"
  }
 },
 "nbformat": 4,
 "nbformat_minor": 5
}
