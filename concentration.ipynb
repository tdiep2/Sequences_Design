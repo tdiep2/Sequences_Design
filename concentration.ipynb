{
 "cells": [
  {
   "cell_type": "code",
   "execution_count": 1,
   "metadata": {},
   "outputs": [],
   "source": [
    "from Bio.Seq import Seq\n",
    "from Bio.SeqUtils import MeltingTemp as mt\n",
    "from itertools import product, islice\n",
    "import re\n",
    "from concurrent.futures import ProcessPoolExecutor, as_completed\n",
    "import pandas as pd\n",
    "import matplotlib.pyplot as plt\n",
    "import numpy as np\n",
    "from tqdm import tqdm\n",
    "from nupack import *\n",
    "import random\n",
    "# Define the model\n",
    "model1 = Model(material='dna', ensemble='stacking', celsius=15, sodium=1, magnesium=0.00)"
   ]
  },
  {
   "cell_type": "code",
   "execution_count": 2,
   "metadata": {},
   "outputs": [],
   "source": [
    "class ComplexNotFound(Exception):\n",
    "    pass\n",
    "\n",
    "def get_complex_concentration(complexes, complex_name):\n",
    "    \"\"\"Retrieve the concentration of a specific complex by name.\"\"\"\n",
    "    for complex_key, concentration in complexes.items():\n",
    "        if complex_key.name == complex_name:\n",
    "            return concentration\n",
    "    raise ComplexNotFound(f\"Complex '{complex_name}' not found.\")\n",
    "\n"
   ]
  },
  {
   "cell_type": "code",
   "execution_count": 3,
   "metadata": {},
   "outputs": [
    {
     "name": "stdout",
     "output_type": "stream",
     "text": [
      "Generated Complex Names: ['(s1+s2)', '(s3+s4)', '(s5+s6)', '(s7+s8)']\n",
      "\n",
      "The equilibrium concentration of (s1+s2) is 9.36 nM\n",
      "The equilibrium concentration of (s3+s4) is 8.32 nM\n",
      "The equilibrium concentration of (s5+s6) is 9.69 nM\n",
      "The equilibrium concentration of (s7+s8) is 9.60 nM\n"
     ]
    }
   ],
   "source": [
    "# Assuming sequences and strands are defined as shown previously\n",
    "sequences = \"\"\"\n",
    "TATGGCCAA\n",
    "TTGGCCATA\n",
    "AGGAACACA\n",
    "TGTGTTCCT\n",
    "TAGAAGCGA\n",
    "TCGCTTCTA\n",
    "ACTCAACCA\n",
    "TGGTTGAGT\n",
    "\"\"\".split()\n",
    "\n",
    "strands = [Strand(seq, name=f's{i+1}') for i, seq in enumerate(sequences)]\n",
    "strand_concentrations = {strand: 10e-9 for strand in strands}\n",
    "tube_all = Tube(strands=strand_concentrations, complexes=SetSpec(max_size=2), name='all_in_one')\n",
    "\n",
    "# Run complex analysis for the tube to calculate partition functions\n",
    "result_all = complex_analysis(complexes=tube_all, model=model1, compute=['pfunc'])\n",
    "\n",
    "# Calculate the equilibrium concentrations within the tube\n",
    "conc_results_all = complex_concentrations(tube=tube_all, data=result_all)\n",
    "\n",
    "# Ensure this line is correctly placed before trying to access concentrations\n",
    "tube_result_all = conc_results_all.tubes[tube_all]  # Correctly define tube_result_all\n",
    "\n",
    "# Generate complex names dynamically for every pair of strands\n",
    "complex_names = [f'(s{i}+s{i+1})' for i in range(1, len(strands) + 1, 2)]\n",
    "\n",
    "# Print out the complex names to verify\n",
    "print(\"Generated Complex Names:\", complex_names)\n",
    "print()\n",
    "# Assuming tube_result_all is already defined and contains the concentration results\n",
    "for complex_name in complex_names:\n",
    "    try:\n",
    "        concentration = get_complex_concentration(tube_result_all.complex_concentrations, complex_name)\n",
    "        print(f\"The equilibrium concentration of {complex_name} is {concentration * 10**9:.2f} nM\")\n",
    "    except ComplexNotFound as e:\n",
    "        print(e)\n",
    "\n"
   ]
  }
 ],
 "metadata": {
  "kernelspec": {
   "display_name": "base",
   "language": "python",
   "name": "python3"
  },
  "language_info": {
   "codemirror_mode": {
    "name": "ipython",
    "version": 3
   },
   "file_extension": ".py",
   "mimetype": "text/x-python",
   "name": "python",
   "nbconvert_exporter": "python",
   "pygments_lexer": "ipython3",
   "version": "3.11.5"
  }
 },
 "nbformat": 4,
 "nbformat_minor": 2
}
